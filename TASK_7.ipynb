{
  "nbformat": 4,
  "nbformat_minor": 0,
  "metadata": {
    "colab": {
      "name": "TASK  7.ipynb",
      "provenance": [],
      "include_colab_link": true
    },
    "kernelspec": {
      "name": "python3",
      "display_name": "Python 3"
    },
    "language_info": {
      "name": "python"
    }
  },
  "cells": [
    {
      "cell_type": "markdown",
      "metadata": {
        "id": "view-in-github",
        "colab_type": "text"
      },
      "source": [
        "<a href=\"https://colab.research.google.com/github/athulkrishna174/Learn.py/blob/main/TASK_7.ipynb\" target=\"_parent\"><img src=\"https://colab.research.google.com/assets/colab-badge.svg\" alt=\"Open In Colab\"/></a>"
      ]
    },
    {
      "cell_type": "markdown",
      "metadata": {
        "id": "b0V3vwzcydKy"
      },
      "source": [
        "1. Write a program to check whether a  string is palindrome or not using functions. \n",
        "\n",
        "   ( A function is to be created to check whether the string is palindrome and it should give the output true or false to the main program)"
      ]
    },
    {
      "cell_type": "code",
      "metadata": {
        "id": "M2Mi7EOdyxiu",
        "outputId": "fd692be7-32f7-43ec-b397-cfaa82115640",
        "colab": {
          "base_uri": "https://localhost:8080/"
        }
      },
      "source": [
        "#please enter the code below this line.\n",
        "def isPalindrome(string):\n",
        "  return string == string[::-1]\n",
        "string = input(\"Enter string: \")\n",
        "if (isPalindrome(string)):\n",
        "  print(\"String is Palindrome\")\n",
        "else:\n",
        "  print(\"String is not Palindrome\")"
      ],
      "execution_count": 19,
      "outputs": [
        {
          "output_type": "stream",
          "text": [
            "Enter string: malayalam\n",
            "String is Palindrome\n"
          ],
          "name": "stdout"
        }
      ]
    },
    {
      "cell_type": "markdown",
      "metadata": {
        "id": "vSiShTyOzEz-"
      },
      "source": [
        "2.  Write a menu driven program to find largest element in L, smallest element, avg of all values, sum of all values in L. All these operation should be performed in different functions and the result should be returned.\n",
        "\n",
        "\n",
        "      L=[23,24,11,90,1,41,9,99,28,56,72]"
      ]
    },
    {
      "cell_type": "code",
      "metadata": {
        "id": "fRtMIw_CzsmO",
        "outputId": "461f2eec-211a-4458-85c5-aea1560dccb6",
        "colab": {
          "base_uri": "https://localhost:8080/"
        }
      },
      "source": [
        "#please enter the code below this line.\n",
        "def largestElement(l):\n",
        "  return max(l)\n",
        "def smallestElement(l):\n",
        "  return min(l)\n",
        "def avgOfElements(l):\n",
        "  return sum(l) / len(l)\n",
        "def sumOfElements(l):\n",
        "  return sum(l)\n",
        "l = [23, 24, 11, 90, 1, 41, 9, 99, 28, 56, 72]\n",
        "print(\"1.Largest Element\\n2.Smallest Element\\n3.Average\\n4.Sum\\n5.Exit\")\n",
        "while (1):\n",
        "  choice = int(input(\"Enter your choice: \"))\n",
        "  if (choice == 1):\n",
        "    print(\"Largest =\",largestElement(l))\n",
        "  elif (choice == 2):\n",
        "    print(\"Smallest =\",smallestElement(l))\n",
        "  elif (choice == 3):\n",
        "    print(\"Aveage =\",avgOfElements(l))\n",
        "  elif (choice == 4):\n",
        "    print(\"Sum =\",sumOfElements(l))\n",
        "  elif (choice == 5):\n",
        "    print(\"Bye!\")\n",
        "    break\n",
        "  else:\n",
        "    print(\"Invalid Choice\")"
      ],
      "execution_count": 32,
      "outputs": [
        {
          "output_type": "stream",
          "text": [
            "1.Largest Element\n",
            "2.Smallest Element\n",
            "3.Average\n",
            "4.Sum\n",
            "5.Exit\n",
            "Enter your choice: 1\n",
            "Largest = 99\n",
            "Enter your choice: 2\n",
            "Smallest = 1\n",
            "Enter your choice: 3\n",
            "Aveage = 41.27272727272727\n",
            "Enter your choice: 4\n",
            "Sum = 454\n",
            "Enter your choice: 5\n",
            "Bye!\n"
          ],
          "name": "stdout"
        }
      ]
    }
  ]
}
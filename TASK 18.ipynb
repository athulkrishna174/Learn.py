{
  "nbformat": 4,
  "nbformat_minor": 0,
  "metadata": {
    "colab": {
      "name": "TASK 18.ipynb",
      "provenance": [],
      "include_colab_link": true
    },
    "kernelspec": {
      "name": "python3",
      "display_name": "Python 3"
    },
    "language_info": {
      "name": "python"
    }
  },
  "cells": [
    {
      "cell_type": "markdown",
      "metadata": {
        "id": "view-in-github",
        "colab_type": "text"
      },
      "source": [
        "<a href=\"https://colab.research.google.com/github/athulkrishna174/Learn.py/blob/main/TASK%2018.ipynb\" target=\"_parent\"><img src=\"https://colab.research.google.com/assets/colab-badge.svg\" alt=\"Open In Colab\"/></a>"
      ]
    },
    {
      "cell_type": "markdown",
      "metadata": {
        "id": "_JgXT8pEAjU4"
      },
      "source": [
        "1. \n",
        "Create a DataFrame by passing a random numpy array,with a datetie index and labelled columns.and,\n",
        "    - slice its first three rows and display.\n",
        "    - slice its odd indexed rows.\n",
        "    - display the dates from 1st postion to 4 th position."
      ]
    },
    {
      "cell_type": "code",
      "metadata": {
        "id": "5zFM5VOJBKBV",
        "colab": {
          "base_uri": "https://localhost:8080/"
        },
        "outputId": "d8c60331-eafc-412d-c612-4dc73b89977a"
      },
      "source": [
        "#please provide your answer below this line.\n",
        "import numpy as np\n",
        "import pandas as pd\n",
        "dates = pd.date_range('20210101', periods=15)\n",
        "df = pd.DataFrame(np.random.randn(15, 26), index=dates, columns=list('ABCDEFGHIJKLMNOPQRSTUVWXYZ'))\n",
        "print(\"First Three Rows\\n\", df[:3])\n",
        "print(\"\\nOdd Indexed Rows\\n\", df[::2])\n",
        "print(\"\\nDates 1st to 4th Position\\n\", df.index[:4])"
      ],
      "execution_count": 6,
      "outputs": [
        {
          "output_type": "stream",
          "text": [
            "First Three Rows\n",
            "                    A         B         C  ...         X         Y         Z\n",
            "2021-01-01  0.029183 -0.927209 -0.654465  ...  1.591549 -0.307574  0.720684\n",
            "2021-01-02  0.064769  0.381845 -0.617188  ...  0.131502  0.807262 -0.859939\n",
            "2021-01-03 -0.288356  1.788016 -0.732178  ... -0.708977 -1.290234  0.738948\n",
            "\n",
            "[3 rows x 26 columns]\n",
            "\n",
            "Odd Indexed Rows\n",
            "                    A         B         C  ...         X         Y         Z\n",
            "2021-01-01  0.029183 -0.927209 -0.654465  ...  1.591549 -0.307574  0.720684\n",
            "2021-01-03 -0.288356  1.788016 -0.732178  ... -0.708977 -1.290234  0.738948\n",
            "2021-01-05  2.812909  0.038357  0.515318  ...  0.580283 -0.116642  0.099654\n",
            "2021-01-07 -1.174112  0.242057 -0.907966  ...  1.478348 -0.775768 -0.000008\n",
            "2021-01-09 -0.408755 -0.656890 -0.949375  ... -1.037331 -1.335701  0.347491\n",
            "2021-01-11 -1.242175 -0.819982 -1.342939  ... -0.137035  0.359569  0.137926\n",
            "2021-01-13  1.233830  1.165761  1.032725  ...  0.183680  0.101205  1.338401\n",
            "2021-01-15  0.264846 -1.091034 -1.800593  ...  0.181695 -1.479845  1.165068\n",
            "\n",
            "[8 rows x 26 columns]\n",
            "\n",
            "Dates 1st to 4th Position\n",
            " DatetimeIndex(['2021-01-01', '2021-01-02', '2021-01-03', '2021-01-04'], dtype='datetime64[ns]', freq='D')\n"
          ],
          "name": "stdout"
        }
      ]
    },
    {
      "cell_type": "markdown",
      "metadata": {
        "id": "QuoucvjxBPmX"
      },
      "source": [
        "2. Create a DataFrame by passing a random numpy array,with a datetie index and labelled columns.and\n",
        "  - Dislplay the index from the 1 to 3 date and the columns A and B of respective data.\n",
        "  - Display the datas at the 3rd index.\n",
        "  - Display datas from 2nd to 5th.\n",
        "  - Display the datas from the index 1,2,4 and the column 0 and 2."
      ]
    },
    {
      "cell_type": "code",
      "metadata": {
        "id": "qV_wzsp1DUKI",
        "colab": {
          "base_uri": "https://localhost:8080/"
        },
        "outputId": "91d3d36e-5d3a-460f-dfce-958023872417"
      },
      "source": [
        "#please provide your answer below thins line.\n",
        "import numpy as np\n",
        "import pandas as pd\n",
        "dates = pd.date_range('20210101', periods=15)\n",
        "df = pd.DataFrame(np.random.randn(15, 26), index=dates, columns=list('ABCDEFGHIJKLMNOPQRSTUVWXYZ'))\n",
        "print(\"Index 1 to 3 and columns A B\\n\", df[['A','B']][:3])\n",
        "print(\"\\nDatas at 3rd Index\\n\", df.iloc[[3]])\n",
        "print(\"\\nDatas from 2nd to 5th\\n\", df[1:5])\n",
        "print(\"\\nDatas from Index 1,2,4 and column 0 and 2\\n\", df.iloc[[1,2,4], [0,2]])"
      ],
      "execution_count": 43,
      "outputs": [
        {
          "output_type": "stream",
          "text": [
            "Index 1 to 3 and columns A B\n",
            "                    A         B\n",
            "2021-01-01  2.060838 -0.413474\n",
            "2021-01-02 -1.169547 -2.633005\n",
            "2021-01-03 -0.978711 -1.284042\n",
            "\n",
            "Datas at 3rd Index\n",
            "                    A         B         C  ...        X         Y         Z\n",
            "2021-01-04 -1.048311 -0.008395 -0.818765  ... -0.15345 -0.680633  1.033138\n",
            "\n",
            "[1 rows x 26 columns]\n",
            "\n",
            "Datas from 2nd to 5th\n",
            "                    A         B         C  ...         X         Y         Z\n",
            "2021-01-02 -1.169547 -2.633005  0.611861  ... -0.575562  1.236779  0.836366\n",
            "2021-01-03 -0.978711 -1.284042 -0.894949  ... -0.198452 -0.434964 -1.792466\n",
            "2021-01-04 -1.048311 -0.008395 -0.818765  ... -0.153450 -0.680633  1.033138\n",
            "2021-01-05 -0.142097  0.656728  0.277861  ... -0.709811  1.404276  0.858715\n",
            "\n",
            "[4 rows x 26 columns]\n",
            "\n",
            "Datas from Index 1,2,4 and column 0 and 2\n",
            "                    A         C\n",
            "2021-01-02 -1.169547  0.611861\n",
            "2021-01-03 -0.978711 -0.894949\n",
            "2021-01-05 -0.142097  0.277861\n"
          ],
          "name": "stdout"
        }
      ]
    }
  ]
}
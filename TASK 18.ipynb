{
  "nbformat": 4,
  "nbformat_minor": 0,
  "metadata": {
    "colab": {
      "name": "TASK 18.ipynb",
      "provenance": [],
      "include_colab_link": true
    },
    "kernelspec": {
      "name": "python3",
      "display_name": "Python 3"
    },
    "language_info": {
      "name": "python"
    }
  },
  "cells": [
    {
      "cell_type": "markdown",
      "metadata": {
        "id": "view-in-github",
        "colab_type": "text"
      },
      "source": [
        "<a href=\"https://colab.research.google.com/github/athulkrishna174/Learn.py/blob/main/TASK%2018.ipynb\" target=\"_parent\"><img src=\"https://colab.research.google.com/assets/colab-badge.svg\" alt=\"Open In Colab\"/></a>"
      ]
    },
    {
      "cell_type": "markdown",
      "metadata": {
        "id": "_JgXT8pEAjU4"
      },
      "source": [
        "1. \n",
        "Create a DataFrame by passing a random numpy array,with a datetie index and labelled columns.and,\n",
        "    - slice its first three rows and display.\n",
        "    - slice its odd indexed rows.\n",
        "    - display the dates from 1st postion to 4 th position."
      ]
    },
    {
      "cell_type": "code",
      "metadata": {
        "id": "5zFM5VOJBKBV",
        "outputId": "d8c60331-eafc-412d-c612-4dc73b89977a",
        "colab": {
          "base_uri": "https://localhost:8080/"
        }
      },
      "source": [
        "#please provide your answer below this line.\n",
        "import numpy as np\n",
        "import pandas as pd\n",
        "dates = pd.date_range('20210101', periods=15)\n",
        "df = pd.DataFrame(np.random.randn(15, 26), index=dates, columns=list('ABCDEFGHIJKLMNOPQRSTUVWXYZ'))\n",
        "print(\"First Three Rows\\n\", df[:3])\n",
        "print(\"\\nOdd Indexed Rows\\n\", df[::2])\n",
        "print(\"\\nDates 1st to 4th Position\\n\", df.index[:4])"
      ],
      "execution_count": 6,
      "outputs": [
        {
          "output_type": "stream",
          "text": [
            "First Three Rows\n",
            "                    A         B         C  ...         X         Y         Z\n",
            "2021-01-01  0.029183 -0.927209 -0.654465  ...  1.591549 -0.307574  0.720684\n",
            "2021-01-02  0.064769  0.381845 -0.617188  ...  0.131502  0.807262 -0.859939\n",
            "2021-01-03 -0.288356  1.788016 -0.732178  ... -0.708977 -1.290234  0.738948\n",
            "\n",
            "[3 rows x 26 columns]\n",
            "\n",
            "Odd Indexed Rows\n",
            "                    A         B         C  ...         X         Y         Z\n",
            "2021-01-01  0.029183 -0.927209 -0.654465  ...  1.591549 -0.307574  0.720684\n",
            "2021-01-03 -0.288356  1.788016 -0.732178  ... -0.708977 -1.290234  0.738948\n",
            "2021-01-05  2.812909  0.038357  0.515318  ...  0.580283 -0.116642  0.099654\n",
            "2021-01-07 -1.174112  0.242057 -0.907966  ...  1.478348 -0.775768 -0.000008\n",
            "2021-01-09 -0.408755 -0.656890 -0.949375  ... -1.037331 -1.335701  0.347491\n",
            "2021-01-11 -1.242175 -0.819982 -1.342939  ... -0.137035  0.359569  0.137926\n",
            "2021-01-13  1.233830  1.165761  1.032725  ...  0.183680  0.101205  1.338401\n",
            "2021-01-15  0.264846 -1.091034 -1.800593  ...  0.181695 -1.479845  1.165068\n",
            "\n",
            "[8 rows x 26 columns]\n",
            "\n",
            "Dates 1st to 4th Position\n",
            " DatetimeIndex(['2021-01-01', '2021-01-02', '2021-01-03', '2021-01-04'], dtype='datetime64[ns]', freq='D')\n"
          ],
          "name": "stdout"
        }
      ]
    },
    {
      "cell_type": "markdown",
      "metadata": {
        "id": "QuoucvjxBPmX"
      },
      "source": [
        "2. Create a DataFrame by passing a random numpy array,with a datetie index and labelled columns.and\n",
        "  - Dislplay the index from the 1 to 3 date and the columns A and B of respective data.\n",
        "  - Display the datas at the 3rd index.\n",
        "  - Display datas from 2nd to 5th.\n",
        "  - Display the datas from the index 1,2,4 and the column 0 and 2."
      ]
    },
    {
      "cell_type": "code",
      "metadata": {
        "id": "qV_wzsp1DUKI",
        "outputId": "cdd76f7f-ab87-4493-c0eb-05927d840298",
        "colab": {
          "base_uri": "https://localhost:8080/"
        }
      },
      "source": [
        "#please provide your answer below thins line.\n",
        "import numpy as np\n",
        "import pandas as pd\n",
        "dates = pd.date_range('20210101', periods=15)\n",
        "df = pd.DataFrame(np.random.randn(15, 26), index=dates, columns=list('ABCDEFGHIJKLMNOPQRSTUVWXYZ'))\n",
        "print(\"Index 1 to 3 and columns A B\\n\", df[['A','B']][:3])\n",
        "print(\"\\nDatas at 3rd Index\\n\", df.iloc[3])\n",
        "print(\"\\nDatas from 2nd to 5th\\n\", df[1:5])\n",
        "print(\"\\nDatas from Index 1,2,4 and column 0 and 2\\n\", df.iloc[[1,2,4], [0,2]])"
      ],
      "execution_count": 42,
      "outputs": [
        {
          "output_type": "stream",
          "text": [
            "Index 1 to 3 and columns A B\n",
            "                    A         B\n",
            "2021-01-01  0.775212 -2.451384\n",
            "2021-01-02 -1.105598  0.396074\n",
            "2021-01-03 -0.544437 -0.690452\n",
            "\n",
            "Datas at 3rd Index\n",
            " A    2.829481\n",
            "B   -1.586694\n",
            "C    1.708024\n",
            "D   -1.921344\n",
            "E   -1.639854\n",
            "F   -1.338056\n",
            "G    1.044295\n",
            "H    1.566226\n",
            "I   -0.410420\n",
            "J   -0.430237\n",
            "K   -0.588992\n",
            "L   -0.177253\n",
            "M   -1.502311\n",
            "N    0.135227\n",
            "O   -1.352516\n",
            "P   -0.072356\n",
            "Q    0.073427\n",
            "R   -0.342143\n",
            "S    0.047366\n",
            "T   -2.522586\n",
            "U   -1.560903\n",
            "V   -1.754818\n",
            "W    0.992097\n",
            "X   -0.894371\n",
            "Y    0.288453\n",
            "Z    1.642799\n",
            "Name: 2021-01-04 00:00:00, dtype: float64\n",
            "\n",
            "Datas from 2nd to 5th\n",
            "                    A         B         C  ...         X         Y         Z\n",
            "2021-01-02 -1.105598  0.396074 -0.774037  ...  1.613371  1.097729  0.618048\n",
            "2021-01-03 -0.544437 -0.690452  0.289195  ... -0.108093 -1.782381  0.045192\n",
            "2021-01-04  2.829481 -1.586694  1.708024  ... -0.894371  0.288453  1.642799\n",
            "2021-01-05  0.075151 -0.954614 -0.674860  ... -0.354103  0.176671 -0.101291\n",
            "\n",
            "[4 rows x 26 columns]\n",
            "\n",
            "Datas from Index 1,2,4 and column 0 and 2\n",
            "                    A         C\n",
            "2021-01-02 -1.105598 -0.774037\n",
            "2021-01-03 -0.544437  0.289195\n",
            "2021-01-05  0.075151 -0.674860\n"
          ],
          "name": "stdout"
        }
      ]
    }
  ]
}
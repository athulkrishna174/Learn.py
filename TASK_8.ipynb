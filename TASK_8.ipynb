{
  "nbformat": 4,
  "nbformat_minor": 0,
  "metadata": {
    "colab": {
      "name": "TASK 8.ipynb",
      "provenance": [],
      "include_colab_link": true
    },
    "kernelspec": {
      "name": "python3",
      "display_name": "Python 3"
    },
    "language_info": {
      "name": "python"
    }
  },
  "cells": [
    {
      "cell_type": "markdown",
      "metadata": {
        "id": "view-in-github",
        "colab_type": "text"
      },
      "source": [
        "<a href=\"https://colab.research.google.com/github/athulkrishna174/Learn.py/blob/main/TASK_8.ipynb\" target=\"_parent\"><img src=\"https://colab.research.google.com/assets/colab-badge.svg\" alt=\"Open In Colab\"/></a>"
      ]
    },
    {
      "cell_type": "markdown",
      "metadata": {
        "id": "slsGswYbJSo7"
      },
      "source": [
        "1. Generate a 3 x 3 matrix using random module."
      ]
    },
    {
      "cell_type": "code",
      "metadata": {
        "id": "GGRQSYyNJW9t",
        "outputId": "d42798a2-cb31-4502-e5e0-b4c5baedf2a3",
        "colab": {
          "base_uri": "https://localhost:8080/"
        }
      },
      "source": [
        "#please provide your answer below this line.\n",
        "import numpy as np\n",
        "np.random.rand(3, 3)"
      ],
      "execution_count": 18,
      "outputs": [
        {
          "output_type": "execute_result",
          "data": {
            "text/plain": [
              "array([[0.89367832, 0.08598069, 0.82189166],\n",
              "       [0.3891278 , 0.14677861, 0.09080971],\n",
              "       [0.48099305, 0.88382961, 0.80694361]])"
            ]
          },
          "metadata": {
            "tags": []
          },
          "execution_count": 18
        }
      ]
    },
    {
      "cell_type": "markdown",
      "metadata": {
        "id": "4OB9KFX6JfYA"
      },
      "source": [
        "2. Generate two 4 x 4 matrix using numpy and \n",
        "\n",
        " a) Reshape it to 2 x 8matrix and vertically stack it.\n",
        "\n",
        " b) Reshape it to 2 x 8 matrix and horizontally stack it."
      ]
    },
    {
      "cell_type": "code",
      "metadata": {
        "id": "VoIqYeNWJ4H_",
        "outputId": "7ef6ab8d-e1de-4dd4-dd62-c730014cbbb7",
        "colab": {
          "base_uri": "https://localhost:8080/"
        }
      },
      "source": [
        "#please provide your answer below this line.\n",
        "import numpy as np\n",
        "arr = np.random.randint(100, size=(4, 4))\n",
        "print(\"Array\\n\", arr)\n",
        "reshaped_arr = arr.reshape(2,8)\n",
        "print(\"Reshaped Array\\n\", reshaped_arr)\n",
        "print(\"Vertical Stack\")\n",
        "print(np.vstack(reshaped_arr))\n",
        "print(\"Horizontal Stack\")\n",
        "print(np.hstack(reshaped_arr))"
      ],
      "execution_count": 36,
      "outputs": [
        {
          "output_type": "stream",
          "text": [
            "Array\n",
            " [[71 27 27 42]\n",
            " [12 25 42 14]\n",
            " [30 53 96 68]\n",
            " [18 37 68 44]]\n",
            "Reshaped Array\n",
            " [[71 27 27 42 12 25 42 14]\n",
            " [30 53 96 68 18 37 68 44]]\n",
            "Vertical Stack\n",
            "[[71 27 27 42 12 25 42 14]\n",
            " [30 53 96 68 18 37 68 44]]\n",
            "Horizontal Stack\n",
            "[71 27 27 42 12 25 42 14 30 53 96 68 18 37 68 44]\n"
          ],
          "name": "stdout"
        }
      ]
    }
  ]
}
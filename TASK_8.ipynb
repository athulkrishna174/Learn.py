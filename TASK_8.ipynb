{
  "nbformat": 4,
  "nbformat_minor": 0,
  "metadata": {
    "colab": {
      "name": "TASK 8.ipynb",
      "provenance": [],
      "include_colab_link": true
    },
    "kernelspec": {
      "name": "python3",
      "display_name": "Python 3"
    },
    "language_info": {
      "name": "python"
    }
  },
  "cells": [
    {
      "cell_type": "markdown",
      "metadata": {
        "id": "view-in-github",
        "colab_type": "text"
      },
      "source": [
        "<a href=\"https://colab.research.google.com/github/athulkrishna174/Learn.py/blob/main/TASK_8.ipynb\" target=\"_parent\"><img src=\"https://colab.research.google.com/assets/colab-badge.svg\" alt=\"Open In Colab\"/></a>"
      ]
    },
    {
      "cell_type": "markdown",
      "metadata": {
        "id": "slsGswYbJSo7"
      },
      "source": [
        "1. Generate a 3 x 3 matrix using random module."
      ]
    },
    {
      "cell_type": "code",
      "metadata": {
        "id": "GGRQSYyNJW9t",
        "outputId": "c6a8c247-5c67-4c0f-b913-ea3b1cbe8d8d",
        "colab": {
          "base_uri": "https://localhost:8080/"
        }
      },
      "source": [
        "#please provide your answer below this line.\n",
        "import numpy as np\n",
        "np.random.rand(3, 3)"
      ],
      "execution_count": 2,
      "outputs": [
        {
          "output_type": "execute_result",
          "data": {
            "text/plain": [
              "array([[0.62490667, 0.69327733, 0.91889661],\n",
              "       [0.82392698, 0.15243892, 0.59668588],\n",
              "       [0.59920081, 0.02603598, 0.47069028]])"
            ]
          },
          "metadata": {
            "tags": []
          },
          "execution_count": 2
        }
      ]
    },
    {
      "cell_type": "markdown",
      "metadata": {
        "id": "4OB9KFX6JfYA"
      },
      "source": [
        "2. Generate two 4 x 4 matrix using numpy and \n",
        "\n",
        " a) Reshape it to 2 x 8matrix and vertically stack it.\n",
        "\n",
        " b) Reshape it to 2 x 8 matrix and horizontally stack it."
      ]
    },
    {
      "cell_type": "code",
      "metadata": {
        "id": "VoIqYeNWJ4H_",
        "outputId": "a9b13bbf-670b-4f12-ba8c-8b5c19333960",
        "colab": {
          "base_uri": "https://localhost:8080/"
        }
      },
      "source": [
        "#please provide your answer below this line.\n",
        "import numpy as np\n",
        "arr_1 = np.random.randint(100, size=(4, 4))\n",
        "print(\"Array 1\\n\", arr_1)\n",
        "arr_2 = np.random.randint(50, size=(4, 4))\n",
        "print(\"Array 2\\n\", arr_2)\n",
        "reshaped_arr_1 = arr_1.reshape(2,8)\n",
        "reshaped_arr_2 = arr_2.reshape(2,8)\n",
        "print(\"Reshaped Array 1\\n\", reshaped_arr_1, \"\\nReshaped Array 2\\n\", reshaped_arr_2)\n",
        "print(\"Vertical Stack\")\n",
        "print(np.vstack((reshaped_arr_1,reshaped_arr_2)))\n",
        "print(\"Horizontal Stack\")\n",
        "print(np.hstack((reshaped_arr_1,reshaped_arr_2)))"
      ],
      "execution_count": 15,
      "outputs": [
        {
          "output_type": "stream",
          "text": [
            "Array 1\n",
            " [[68 16 75 73]\n",
            " [91 21 50 22]\n",
            " [82 33  4 62]\n",
            " [21 41 75 91]]\n",
            "Array 2\n",
            " [[18  7 41 22]\n",
            " [33 49 18 34]\n",
            " [48 19 39 23]\n",
            " [35  6 32  2]]\n",
            "Reshaped Array 1\n",
            " [[68 16 75 73 91 21 50 22]\n",
            " [82 33  4 62 21 41 75 91]] \n",
            "Reshaped Array 2\n",
            " [[18  7 41 22 33 49 18 34]\n",
            " [48 19 39 23 35  6 32  2]]\n",
            "Vertical Stack\n",
            "[[68 16 75 73 91 21 50 22]\n",
            " [82 33  4 62 21 41 75 91]\n",
            " [18  7 41 22 33 49 18 34]\n",
            " [48 19 39 23 35  6 32  2]]\n",
            "Horizontal Stack\n",
            "[[68 16 75 73 91 21 50 22 18  7 41 22 33 49 18 34]\n",
            " [82 33  4 62 21 41 75 91 48 19 39 23 35  6 32  2]]\n"
          ],
          "name": "stdout"
        }
      ]
    }
  ]
}
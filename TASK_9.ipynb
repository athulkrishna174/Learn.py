{
  "nbformat": 4,
  "nbformat_minor": 0,
  "metadata": {
    "colab": {
      "name": "TASK 9.ipynb",
      "provenance": [],
      "include_colab_link": true
    },
    "kernelspec": {
      "name": "python3",
      "display_name": "Python 3"
    },
    "language_info": {
      "name": "python"
    }
  },
  "cells": [
    {
      "cell_type": "markdown",
      "metadata": {
        "id": "view-in-github",
        "colab_type": "text"
      },
      "source": [
        "<a href=\"https://colab.research.google.com/github/athulkrishna174/Learn.py/blob/main/TASK_9.ipynb\" target=\"_parent\"><img src=\"https://colab.research.google.com/assets/colab-badge.svg\" alt=\"Open In Colab\"/></a>"
      ]
    },
    {
      "cell_type": "markdown",
      "metadata": {
        "id": "CBOQ3rFElEb0"
      },
      "source": [
        "1. Create an 4x4 array containing the values ranging from 0 - 15 (use arange function). Then ,\n",
        "  \n",
        "  a) split it equally along horizontal.\n",
        "\n",
        "  b) split it as 4 parts vertically.\n",
        "\n"
      ]
    },
    {
      "cell_type": "code",
      "metadata": {
        "id": "pKy4fjS_m3XD",
        "colab": {
          "base_uri": "https://localhost:8080/"
        },
        "outputId": "12fe4aae-fa7f-4bfe-bc5c-50a3fb2e2cf9"
      },
      "source": [
        "#please provide your answer below this line\n",
        "import numpy as np\n",
        "arr = np.arange(0, 16).reshape(4, 4)\n",
        "print(\"Array\\n\", arr)\n",
        "print(\"Horizontal Split =\", np.hsplit(arr, 4))\n",
        "print(\"Vertical Split =\", np.vsplit(arr, 4))"
      ],
      "execution_count": 34,
      "outputs": [
        {
          "output_type": "stream",
          "text": [
            "Array\n",
            " [[ 0  1  2  3]\n",
            " [ 4  5  6  7]\n",
            " [ 8  9 10 11]\n",
            " [12 13 14 15]]\n",
            "Horizontal Split = [array([[ 0],\n",
            "       [ 4],\n",
            "       [ 8],\n",
            "       [12]]), array([[ 1],\n",
            "       [ 5],\n",
            "       [ 9],\n",
            "       [13]]), array([[ 2],\n",
            "       [ 6],\n",
            "       [10],\n",
            "       [14]]), array([[ 3],\n",
            "       [ 7],\n",
            "       [11],\n",
            "       [15]])]\n",
            "Vertical Split = [array([[0, 1, 2, 3]]), array([[4, 5, 6, 7]]), array([[ 8,  9, 10, 11]]), array([[12, 13, 14, 15]])]\n"
          ],
          "name": "stdout"
        }
      ]
    },
    {
      "cell_type": "markdown",
      "metadata": {
        "id": "ORtqWRAeoMvn"
      },
      "source": [
        "2. Create a 3x3 matrix using random module and then,\n",
        "\n",
        "  a) Find the ceil of the matrix.\n",
        "  \n",
        "  b) Find the floor of the matrix."
      ]
    },
    {
      "cell_type": "code",
      "metadata": {
        "id": "kt_CO_v9qpU-",
        "outputId": "c3591393-4375-4a65-a94d-b295c071912e",
        "colab": {
          "base_uri": "https://localhost:8080/"
        }
      },
      "source": [
        "#please provide your answer below this line\n",
        "import numpy as np\n",
        "arr = np.random.rand(3, 3)\n",
        "print(\"Array\\n\", arr)\n",
        "print(\"Ceil of matrix\\n\", np.ceil(arr))\n",
        "print(\"Floor of matrix\\n\", np.floor(arr))"
      ],
      "execution_count": 25,
      "outputs": [
        {
          "output_type": "stream",
          "text": [
            "Array\n",
            " [[0.35046013 0.88115029 0.50827982]\n",
            " [0.67816048 0.80870983 0.76336542]\n",
            " [0.80546572 0.76371207 0.79960498]]\n",
            "Ceil of matrix\n",
            " [[1. 1. 1.]\n",
            " [1. 1. 1.]\n",
            " [1. 1. 1.]]\n",
            "Floor of matrix\n",
            " [[0. 0. 0.]\n",
            " [0. 0. 0.]\n",
            " [0. 0. 0.]]\n"
          ],
          "name": "stdout"
        }
      ]
    },
    {
      "cell_type": "markdown",
      "metadata": {
        "id": "oln9t19WqzBb"
      },
      "source": [
        "3. Create a random 1x4 array and print the random array and its shape.\n",
        "    \n",
        "      (use the shape function for finding the shape & use the same random we created here for both the below operations.)\n",
        "\n",
        "  a) Squeeze the random array and print the squeezed array and its shape.\n",
        "  b) Expand the random array by one axis and print the expanded array and its shape."
      ]
    },
    {
      "cell_type": "code",
      "metadata": {
        "id": "cbGGwRo3vpVX",
        "outputId": "330ee04f-c691-4be6-bc1b-04f880318c0f",
        "colab": {
          "base_uri": "https://localhost:8080/"
        }
      },
      "source": [
        "#please provide your answer below this line.\n",
        "arr = np.random.rand(1, 4)\n",
        "print(\"Array\\n\", arr, \"Shape =\", arr.shape)\n",
        "print(\"Squezed Array\\n\", np.squeeze(arr), \"Shape =\", np.squeeze(arr).shape)\n",
        "print(\"Expanded Array\\n\", np.expand_dims(arr, axis = 1), \"Shape =\", np.expand_dims(arr, axis = 1).shape)"
      ],
      "execution_count": 39,
      "outputs": [
        {
          "output_type": "stream",
          "text": [
            "Array\n",
            " [[0.80055403 0.58399576 0.58599902 0.82790609]] Shape = (1, 4)\n",
            "Squezed Array\n",
            " [0.80055403 0.58399576 0.58599902 0.82790609] Shape = (4,)\n",
            "Expanded Array\n",
            " [[[0.80055403 0.58399576 0.58599902 0.82790609]]] Shape = (1, 1, 4)\n"
          ],
          "name": "stdout"
        }
      ]
    }
  ]
}
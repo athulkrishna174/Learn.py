{
  "nbformat": 4,
  "nbformat_minor": 0,
  "metadata": {
    "colab": {
      "name": "TASK 19.ipynb",
      "provenance": [],
      "include_colab_link": true
    },
    "kernelspec": {
      "name": "python3",
      "display_name": "Python 3"
    },
    "language_info": {
      "name": "python"
    }
  },
  "cells": [
    {
      "cell_type": "markdown",
      "metadata": {
        "id": "view-in-github",
        "colab_type": "text"
      },
      "source": [
        "<a href=\"https://colab.research.google.com/github/athulkrishna174/Learn.py/blob/main/TASK%2019.ipynb\" target=\"_parent\"><img src=\"https://colab.research.google.com/assets/colab-badge.svg\" alt=\"Open In Colab\"/></a>"
      ]
    },
    {
      "cell_type": "markdown",
      "metadata": {
        "id": "6J-6GvX2JUcC"
      },
      "source": [
        "1. Create a DataFrame by passing a random numpy array,with a dateted index and labelled columns and display,\n",
        "  - where values of the column A is greater than 0.\n",
        "  - where values of the columns A is greater than 0 and B greater than -1.\n",
        "  - where values of the columns A  is greater than 0 or B greater than -1.\n"
      ]
    },
    {
      "cell_type": "code",
      "metadata": {
        "id": "xX-5VikpLcHL",
        "colab": {
          "base_uri": "https://localhost:8080/"
        },
        "outputId": "69a9fa19-bebf-4fe9-dff1-7e6a7e2c7917"
      },
      "source": [
        "#please type your code below this line.\n",
        "import numpy as np\n",
        "import pandas as pd\n",
        "dates = pd.date_range('20210101', periods=15)\n",
        "df = pd.DataFrame(np.random.randn(15, 10), index=dates, columns=list('ABCDEFGHIJ'))\n",
        "print(\"A is Greater than 0\\n\", df[df['A'] > 0])\n",
        "print(\"\\nA > 0 and B > -1\\n\", df[(df['A'] > 0) & (df['B'] > -1)])\n",
        "print(\"\\nA > 0 or B > -1\\n\", df[(df['A'] > 0) | (df['B'] > -1)])"
      ],
      "execution_count": 34,
      "outputs": [
        {
          "output_type": "stream",
          "text": [
            "A is Greater than 0\n",
            "                    A         B         C  ...         H         I         J\n",
            "2021-01-01  0.767519  2.182302 -0.856790  ... -0.019085 -0.570363 -1.247962\n",
            "2021-01-02  0.382144 -0.774517  1.114499  ... -1.769160 -0.846351 -0.323950\n",
            "2021-01-04  0.548030 -2.240930  1.089898  ...  0.274435  0.280412 -0.850657\n",
            "2021-01-05  1.897585 -1.541525  0.469660  ... -2.288745 -0.107572  0.391159\n",
            "2021-01-06  0.622362  0.193217  0.053152  ... -0.971117  0.734535 -0.242539\n",
            "2021-01-08  0.653166  0.802148 -0.451956  ... -1.558293 -0.721116 -0.743178\n",
            "2021-01-11  0.136710  0.099293 -0.226796  ... -0.944279  0.402242 -0.685351\n",
            "2021-01-12  1.793031  1.119567  1.618272  ...  1.462242 -2.120398 -0.283490\n",
            "2021-01-14  0.255421  0.870822  0.129384  ... -0.073511  1.800973 -0.280660\n",
            "2021-01-15  1.045052 -0.327641 -0.402019  ... -1.141797  1.808335 -1.078698\n",
            "\n",
            "[10 rows x 10 columns]\n",
            "\n",
            "A > 0 and B > -1\n",
            "                    A         B         C  ...         H         I         J\n",
            "2021-01-01  0.767519  2.182302 -0.856790  ... -0.019085 -0.570363 -1.247962\n",
            "2021-01-02  0.382144 -0.774517  1.114499  ... -1.769160 -0.846351 -0.323950\n",
            "2021-01-06  0.622362  0.193217  0.053152  ... -0.971117  0.734535 -0.242539\n",
            "2021-01-08  0.653166  0.802148 -0.451956  ... -1.558293 -0.721116 -0.743178\n",
            "2021-01-11  0.136710  0.099293 -0.226796  ... -0.944279  0.402242 -0.685351\n",
            "2021-01-12  1.793031  1.119567  1.618272  ...  1.462242 -2.120398 -0.283490\n",
            "2021-01-14  0.255421  0.870822  0.129384  ... -0.073511  1.800973 -0.280660\n",
            "2021-01-15  1.045052 -0.327641 -0.402019  ... -1.141797  1.808335 -1.078698\n",
            "\n",
            "[8 rows x 10 columns]\n",
            "\n",
            "A > 0 or B > -1\n",
            "                    A         B         C  ...         H         I         J\n",
            "2021-01-01  0.767519  2.182302 -0.856790  ... -0.019085 -0.570363 -1.247962\n",
            "2021-01-02  0.382144 -0.774517  1.114499  ... -1.769160 -0.846351 -0.323950\n",
            "2021-01-03 -1.364097  0.491244 -0.294253  ...  0.972291 -0.359051 -0.554079\n",
            "2021-01-04  0.548030 -2.240930  1.089898  ...  0.274435  0.280412 -0.850657\n",
            "2021-01-05  1.897585 -1.541525  0.469660  ... -2.288745 -0.107572  0.391159\n",
            "2021-01-06  0.622362  0.193217  0.053152  ... -0.971117  0.734535 -0.242539\n",
            "2021-01-07 -0.602895 -0.966426  0.045354  ...  0.128903  0.758493  1.066149\n",
            "2021-01-08  0.653166  0.802148 -0.451956  ... -1.558293 -0.721116 -0.743178\n",
            "2021-01-09 -0.786039  0.982155 -0.218459  ... -1.464357 -1.405728 -1.704570\n",
            "2021-01-11  0.136710  0.099293 -0.226796  ... -0.944279  0.402242 -0.685351\n",
            "2021-01-12  1.793031  1.119567  1.618272  ...  1.462242 -2.120398 -0.283490\n",
            "2021-01-13 -1.912518 -0.885250 -1.504787  ... -0.021068 -1.454804 -0.240430\n",
            "2021-01-14  0.255421  0.870822  0.129384  ... -0.073511  1.800973 -0.280660\n",
            "2021-01-15  1.045052 -0.327641 -0.402019  ... -1.141797  1.808335 -1.078698\n",
            "\n",
            "[14 rows x 10 columns]\n"
          ],
          "name": "stdout"
        }
      ]
    },
    {
      "cell_type": "markdown",
      "metadata": {
        "id": "1WAf9SbwLp6o"
      },
      "source": [
        "2. Create a DataFrame by passing a random numpy array,with a dateted index and labelled columns and check if ,\n",
        "  - the values of the table are greater the zero or not.\n",
        "  - the value at the postion (0,0) is equal to NaN or not."
      ]
    },
    {
      "cell_type": "code",
      "metadata": {
        "id": "rBrt8pMeM2Q5",
        "colab": {
          "base_uri": "https://localhost:8080/"
        },
        "outputId": "73a29758-2aee-430b-822f-6c665f22ebda"
      },
      "source": [
        "#please type your code below this line.\n",
        "import numpy as np\n",
        "import pandas as pd\n",
        "dates = pd.date_range('20210101', periods=15)\n",
        "df = pd.DataFrame(np.random.randn(15, 10), index=dates, columns=list('ABCDEFGHIJ'))\n",
        "print(\"DataFrame\\n\", df)\n",
        "print(\"\\nGreater than 0 or not\\n\", df > 0)\n",
        "print(\"\\nValue at the postion (0,0) is equal to NaN or not\\n\", df.iloc[[0],[0]] == 'NaN')"
      ],
      "execution_count": 94,
      "outputs": [
        {
          "output_type": "stream",
          "text": [
            "DataFrame\n",
            "                    A         B         C  ...         H         I         J\n",
            "2021-01-01  0.466409  0.929772 -0.730806  ...  0.374442  1.108646  0.744906\n",
            "2021-01-02 -0.835736 -0.398468  0.166418  ... -0.738346 -0.044743 -2.693973\n",
            "2021-01-03  0.390132 -0.117798  0.273763  ... -0.795877 -0.324853 -1.252169\n",
            "2021-01-04  0.279034 -0.307629 -0.708119  ...  0.091414 -0.295026  0.174922\n",
            "2021-01-05  0.402808 -0.247567 -0.430308  ...  0.683437 -1.342842 -0.607752\n",
            "2021-01-06 -1.413341  0.443734 -0.706740  ...  0.230170  0.776261  0.552130\n",
            "2021-01-07 -0.312508 -2.366417  0.784962  ...  0.615940 -0.236482  0.721181\n",
            "2021-01-08  1.619205 -0.852526  0.300295  ...  0.200402 -1.703804 -1.036672\n",
            "2021-01-09 -0.154400  0.311525 -0.578507  ...  0.158890 -0.204968  0.225356\n",
            "2021-01-10 -0.032510 -1.051397 -1.082356  ... -0.863638 -0.786061  0.723471\n",
            "2021-01-11  0.799034  1.392727  0.338298  ...  0.987847 -0.191092  0.932099\n",
            "2021-01-12  2.265098 -1.280272 -1.468101  ...  0.190913  0.938250 -0.449528\n",
            "2021-01-13  0.073766 -1.029177 -0.528189  ...  0.034415 -0.691893 -0.330010\n",
            "2021-01-14 -0.122823 -0.307693 -0.704046  ... -0.237687 -1.382796 -0.735684\n",
            "2021-01-15  0.128628 -0.723276  1.000256  ...  1.406495  1.817749  1.750448\n",
            "\n",
            "[15 rows x 10 columns]\n",
            "\n",
            "Greater than 0 or not\n",
            "                 A      B      C      D  ...      G      H      I      J\n",
            "2021-01-01   True   True  False  False  ...  False   True   True   True\n",
            "2021-01-02  False  False   True   True  ...   True  False  False  False\n",
            "2021-01-03   True  False   True  False  ...  False  False  False  False\n",
            "2021-01-04   True  False  False   True  ...   True   True  False   True\n",
            "2021-01-05   True  False  False  False  ...   True   True  False  False\n",
            "2021-01-06  False   True  False  False  ...  False   True   True   True\n",
            "2021-01-07  False  False   True  False  ...   True   True  False   True\n",
            "2021-01-08   True  False   True   True  ...   True   True  False  False\n",
            "2021-01-09  False   True  False   True  ...  False   True  False   True\n",
            "2021-01-10  False  False  False   True  ...   True  False  False   True\n",
            "2021-01-11   True   True   True  False  ...   True   True  False   True\n",
            "2021-01-12   True  False  False   True  ...   True   True   True  False\n",
            "2021-01-13   True  False  False  False  ...   True   True  False  False\n",
            "2021-01-14  False  False  False  False  ...  False  False  False  False\n",
            "2021-01-15   True  False   True   True  ...  False   True   True   True\n",
            "\n",
            "[15 rows x 10 columns]\n",
            "\n",
            "Value at the postion (0,0) is equal to NaN or not\n",
            "                 A\n",
            "2021-01-01  False\n"
          ],
          "name": "stdout"
        }
      ]
    },
    {
      "cell_type": "markdown",
      "metadata": {
        "id": "IfM9XYmiNaKB"
      },
      "source": [
        "3. Create a DataFrame by passing a random numpy array,with a dateted index and labelled columns and,\n",
        "  - reindex the index with even dates.\n",
        "  - create a column with values NaN.\n",
        "  - make the values of the first two index of the newly created column as 1"
      ]
    },
    {
      "cell_type": "code",
      "metadata": {
        "id": "F-w8kEfaORg3",
        "colab": {
          "base_uri": "https://localhost:8080/"
        },
        "outputId": "2c7e1b7d-bf69-4562-c7cb-2dc59b7959fa"
      },
      "source": [
        "#please type your answer below this line.\n",
        "import numpy as np\n",
        "import pandas as pd\n",
        "dates = pd.date_range('20210101', periods=15)\n",
        "df = pd.DataFrame(np.random.randn(15, 10), index=dates, columns=list('ABCDEFGHIJ'))\n",
        "print(\"DataFrame\\n\", df)\n",
        "df_reIndexed=df.reindex(df.index[1::2])\n",
        "print(\"\\nIndex with Even Dates\\n\", df_reIndexed)\n",
        "df_reIndexed['K'] = 'NaN'\n",
        "print(\"\\nNew Column K with Values NaN\\n\", df_reIndexed)\n",
        "df_reIndexed.loc[df_reIndexed.index[:2],'K'] = 1\n",
        "print(\"\\nFirst two index of the newly created column as 1\\n\", df_reIndexed)"
      ],
      "execution_count": 226,
      "outputs": [
        {
          "output_type": "stream",
          "text": [
            "DataFrame\n",
            "                    A         B         C  ...         H         I         J\n",
            "2021-01-01 -0.609503  1.704197  1.813237  ... -0.651811 -0.856095  0.316937\n",
            "2021-01-02 -0.099095  0.274940  0.362725  ...  0.443485 -0.179675 -0.574298\n",
            "2021-01-03  0.018592 -1.871608  1.003664  ... -0.638003 -0.009558  1.277825\n",
            "2021-01-04  0.909329 -0.470723 -0.709052  ...  0.099553  1.351982  0.312380\n",
            "2021-01-05 -0.674825 -0.748325 -0.448905  ...  0.066861 -0.171905  2.133388\n",
            "2021-01-06  0.262242  0.277067  0.639363  ...  0.351318  1.538182 -0.026287\n",
            "2021-01-07 -0.656084 -0.630201 -1.617395  ...  0.463317  1.118165 -0.635876\n",
            "2021-01-08  0.129206 -0.459956 -0.384099  ... -1.206113  0.238359  0.751547\n",
            "2021-01-09  0.632356 -0.452636  0.209148  ...  2.304755  0.614815  0.017099\n",
            "2021-01-10 -0.100684  0.085833  0.924564  ...  0.866295 -0.433640 -0.842417\n",
            "2021-01-11 -0.756414 -0.275106 -0.008739  ... -0.319979  0.038440  0.613965\n",
            "2021-01-12  0.195783  1.683964  0.361065  ...  0.658823 -0.437234 -0.726739\n",
            "2021-01-13  0.442217 -1.138834 -0.420045  ... -0.249773 -0.364024  1.400353\n",
            "2021-01-14  1.155176 -0.111422  2.285902  ... -2.857888 -0.216109 -0.175274\n",
            "2021-01-15  1.329542  0.208091 -1.503176  ... -1.397410  0.800957 -0.740623\n",
            "\n",
            "[15 rows x 10 columns]\n",
            "\n",
            "Index with Even Dates\n",
            "                    A         B         C  ...         H         I         J\n",
            "2021-01-02 -0.099095  0.274940  0.362725  ...  0.443485 -0.179675 -0.574298\n",
            "2021-01-04  0.909329 -0.470723 -0.709052  ...  0.099553  1.351982  0.312380\n",
            "2021-01-06  0.262242  0.277067  0.639363  ...  0.351318  1.538182 -0.026287\n",
            "2021-01-08  0.129206 -0.459956 -0.384099  ... -1.206113  0.238359  0.751547\n",
            "2021-01-10 -0.100684  0.085833  0.924564  ...  0.866295 -0.433640 -0.842417\n",
            "2021-01-12  0.195783  1.683964  0.361065  ...  0.658823 -0.437234 -0.726739\n",
            "2021-01-14  1.155176 -0.111422  2.285902  ... -2.857888 -0.216109 -0.175274\n",
            "\n",
            "[7 rows x 10 columns]\n",
            "\n",
            "New Column K with Values NaN\n",
            "                    A         B         C  ...         I         J    K\n",
            "2021-01-02 -0.099095  0.274940  0.362725  ... -0.179675 -0.574298  NaN\n",
            "2021-01-04  0.909329 -0.470723 -0.709052  ...  1.351982  0.312380  NaN\n",
            "2021-01-06  0.262242  0.277067  0.639363  ...  1.538182 -0.026287  NaN\n",
            "2021-01-08  0.129206 -0.459956 -0.384099  ...  0.238359  0.751547  NaN\n",
            "2021-01-10 -0.100684  0.085833  0.924564  ... -0.433640 -0.842417  NaN\n",
            "2021-01-12  0.195783  1.683964  0.361065  ... -0.437234 -0.726739  NaN\n",
            "2021-01-14  1.155176 -0.111422  2.285902  ... -0.216109 -0.175274  NaN\n",
            "\n",
            "[7 rows x 11 columns]\n",
            "\n",
            "First two index of the newly created column as 1\n",
            "                    A         B         C  ...         I         J    K\n",
            "2021-01-02 -0.099095  0.274940  0.362725  ... -0.179675 -0.574298    1\n",
            "2021-01-04  0.909329 -0.470723 -0.709052  ...  1.351982  0.312380    1\n",
            "2021-01-06  0.262242  0.277067  0.639363  ...  1.538182 -0.026287  NaN\n",
            "2021-01-08  0.129206 -0.459956 -0.384099  ...  0.238359  0.751547  NaN\n",
            "2021-01-10 -0.100684  0.085833  0.924564  ... -0.433640 -0.842417  NaN\n",
            "2021-01-12  0.195783  1.683964  0.361065  ... -0.437234 -0.726739  NaN\n",
            "2021-01-14  1.155176 -0.111422  2.285902  ... -0.216109 -0.175274  NaN\n",
            "\n",
            "[7 rows x 11 columns]\n"
          ],
          "name": "stdout"
        }
      ]
    }
  ]
}
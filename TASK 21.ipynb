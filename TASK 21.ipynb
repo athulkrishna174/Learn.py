{
  "nbformat": 4,
  "nbformat_minor": 0,
  "metadata": {
    "colab": {
      "name": "TASK 21.ipynb",
      "provenance": [],
      "include_colab_link": true
    },
    "kernelspec": {
      "name": "python3",
      "display_name": "Python 3"
    },
    "language_info": {
      "name": "python"
    }
  },
  "cells": [
    {
      "cell_type": "markdown",
      "metadata": {
        "id": "view-in-github",
        "colab_type": "text"
      },
      "source": [
        "<a href=\"https://colab.research.google.com/github/athulkrishna174/Learn.py/blob/main/TASK%2021.ipynb\" target=\"_parent\"><img src=\"https://colab.research.google.com/assets/colab-badge.svg\" alt=\"Open In Colab\"/></a>"
      ]
    },
    {
      "cell_type": "markdown",
      "metadata": {
        "id": "wK9sv7fHTnyo"
      },
      "source": [
        "1.  Using the dataset given below,\n",
        "  - Group the given dataset by A and find the sum of the groups.\n",
        "  - Find the 3 least elements from the column D\n",
        "  - Find the 3 largest elements from the Column D which belongs to the group\n",
        "  'bar'."
      ]
    },
    {
      "cell_type": "code",
      "metadata": {
        "id": "C_Kq4i_rVNyB",
        "outputId": "588684b8-ac07-4fbb-fd2b-1cc499093db4",
        "colab": {
          "base_uri": "https://localhost:8080/"
        }
      },
      "source": [
        "import pandas as pd\n",
        "import numpy as np\n",
        "df = pd.DataFrame({'A' : ['foo', 'bar', 'foo', 'bar',\n",
        "                          'foo', 'bar', 'foo', 'foo'],\n",
        "                   'B' : ['one', 'one', 'two', 'three',\n",
        "                          'two', 'two', 'one', 'three'],\n",
        "                   'C' : np.random.randn(8),\n",
        "                   'D' : np.random.randn(8)})\n",
        "print(df)\n",
        "#please type your code below this line.\n",
        "group = df.groupby('A')\n",
        "print(\"\\nSum Of Groups\\n\", group.sum())\n",
        "print(\"\\n3 least elements from the column D\\n\", df['D'].nsmallest(3))\n",
        "print(\"\\n3 3 largest elements from the Column D which belongs to the group 'bar' D\\n\", group['D'].get_group('bar').nlargest(3))"
      ],
      "execution_count": 41,
      "outputs": [
        {
          "output_type": "stream",
          "text": [
            "     A      B         C         D\n",
            "0  foo    one -0.193982 -1.040691\n",
            "1  bar    one -1.385967 -0.057074\n",
            "2  foo    two -1.576904  0.072170\n",
            "3  bar  three  0.959806  0.538391\n",
            "4  foo    two  1.705552 -0.519992\n",
            "5  bar    two -1.886590  0.490260\n",
            "6  foo    one  0.479781  1.600570\n",
            "7  foo  three  0.865702  1.362067\n",
            "\n",
            "Sum Of Groups\n",
            "             C         D\n",
            "A                      \n",
            "bar -2.312751  0.971578\n",
            "foo  1.280149  1.474124\n",
            "\n",
            "3 least elements from the column D\n",
            " 0   -1.040691\n",
            "4   -0.519992\n",
            "1   -0.057074\n",
            "Name: D, dtype: float64\n",
            "\n",
            "3 3 largest elements from the Column D which belongs to the group 'bar' D\n",
            " 3    0.538391\n",
            "5    0.490260\n",
            "1   -0.057074\n",
            "Name: D, dtype: float64\n"
          ],
          "name": "stdout"
        }
      ]
    },
    {
      "cell_type": "markdown",
      "metadata": {
        "id": "68XLHGsrdHXb"
      },
      "source": [
        "2. Using the dataset given below,\n",
        "  - convert the dataset into a csv file.\n",
        "  - read the csv file just saved\n",
        "  - covert the dataset into a excel file.\n",
        "  - read the excel file just saved."
      ]
    },
    {
      "cell_type": "code",
      "metadata": {
        "id": "J4BOx3UZdVLV",
        "outputId": "b72e2cc4-63f8-4a8e-dd7f-a8b1eb836d90",
        "colab": {
          "base_uri": "https://localhost:8080/"
        }
      },
      "source": [
        "import pandas as pd\n",
        "import numpy as np\n",
        "df = pd.DataFrame({'A' : ['foo', 'bar', 'foo', 'bar',\n",
        "                          'foo', 'bar', 'foo', 'foo'],\n",
        "                   'B' : ['one', 'one', 'two', 'three',\n",
        "                          'two', 'two', 'one', 'three'],\n",
        "                   'C' : np.random.randn(8),\n",
        "                   'D' : np.random.randn(8)})\n",
        "#please type your code below this line.\n",
        "df.to_csv('csvFile.csv')\n",
        "print(\"CSV File\\n\", pd.read_csv('csvFile.csv'))\n",
        "df.to_excel('excelFile.xlsx')\n",
        "print(\"\\nExcel File\\n\", pd.read_excel('excelFile.xlsx'))"
      ],
      "execution_count": 56,
      "outputs": [
        {
          "output_type": "stream",
          "text": [
            "CSV File\n",
            "    Unnamed: 0    A      B         C         D\n",
            "0           0  foo    one  0.824199 -2.194340\n",
            "1           1  bar    one -0.400776  1.991108\n",
            "2           2  foo    two  1.079108  0.400123\n",
            "3           3  bar  three  1.011256  0.240093\n",
            "4           4  foo    two  0.680462 -0.798000\n",
            "5           5  bar    two  0.600489 -0.853429\n",
            "6           6  foo    one  0.151786  0.902349\n",
            "7           7  foo  three  1.409528 -0.679268\n",
            "\n",
            "Excel File\n",
            "    Unnamed: 0    A      B         C         D\n",
            "0           0  foo    one  0.824199 -2.194340\n",
            "1           1  bar    one -0.400776  1.991108\n",
            "2           2  foo    two  1.079108  0.400123\n",
            "3           3  bar  three  1.011256  0.240093\n",
            "4           4  foo    two  0.680462 -0.798000\n",
            "5           5  bar    two  0.600489 -0.853429\n",
            "6           6  foo    one  0.151786  0.902349\n",
            "7           7  foo  three  1.409528 -0.679268\n"
          ],
          "name": "stdout"
        }
      ]
    }
  ]
}
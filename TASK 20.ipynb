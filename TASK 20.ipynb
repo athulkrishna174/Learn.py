{
  "nbformat": 4,
  "nbformat_minor": 0,
  "metadata": {
    "colab": {
      "name": "TASK 20.ipynb",
      "provenance": [],
      "include_colab_link": true
    },
    "kernelspec": {
      "name": "python3",
      "display_name": "Python 3"
    },
    "language_info": {
      "name": "python"
    }
  },
  "cells": [
    {
      "cell_type": "markdown",
      "metadata": {
        "id": "view-in-github",
        "colab_type": "text"
      },
      "source": [
        "<a href=\"https://colab.research.google.com/github/athulkrishna174/Learn.py/blob/main/TASK%2020.ipynb\" target=\"_parent\"><img src=\"https://colab.research.google.com/assets/colab-badge.svg\" alt=\"Open In Colab\"/></a>"
      ]
    },
    {
      "cell_type": "markdown",
      "metadata": {
        "id": "8LIfdcjDWmC3"
      },
      "source": [
        "1. In the data given below,\n",
        "  - find the boolean mask where value is nan\n",
        "  - remove the row with missing data.\n"
      ]
    },
    {
      "cell_type": "markdown",
      "metadata": {
        "id": "VPCGISRTbYPz"
      },
      "source": [
        ""
      ]
    },
    {
      "cell_type": "code",
      "metadata": {
        "colab": {
          "base_uri": "https://localhost:8080/"
        },
        "id": "VsZQYRqXXHpG",
        "outputId": "dd45dc5d-6fe5-4ad8-e647-36a0f2c882a5"
      },
      "source": [
        "import pandas as pd\n",
        "import numpy as np\n",
        "dates = pd.date_range('20210101',periods=6)\n",
        "df = pd.DataFrame(np.random.randn(6,4), index=dates,columns=list('ABCD'))\n",
        "s1 = pd.Series([1,2,3,4,5,6], index=df.index)\n",
        "df[\"F\"]=s1\n",
        "df1=df.reindex(index=dates[0:4], columns=list(df.columns) + ['E'])\n",
        "df1.loc[dates[0]:dates[1],'E'] = 1\n",
        "df1\n",
        "#please provide your answer below this line\n",
        "print(\"Dataframe df1\\n\", df1)\n",
        "print(\"\\nBoolean mask where value is nan\\n\", df1.isnull())\n",
        "print(\"\\nRemoved the row with missing data\\n\", df1.dropna())"
      ],
      "execution_count": 40,
      "outputs": [
        {
          "output_type": "stream",
          "text": [
            "Dataframe df1\n",
            "                    A         B         C         D  F    E\n",
            "2021-01-01 -0.343451 -1.180025 -0.578906  0.564523  1  1.0\n",
            "2021-01-02  0.410158 -0.554617 -0.725427  0.955893  2  1.0\n",
            "2021-01-03  0.544590  0.188024  1.016094  1.220329  3  NaN\n",
            "2021-01-04 -0.306727  0.576155  0.217907 -0.811158  4  NaN\n",
            "\n",
            "Boolean mask where value is nan\n",
            "                 A      B      C      D      F      E\n",
            "2021-01-01  False  False  False  False  False  False\n",
            "2021-01-02  False  False  False  False  False  False\n",
            "2021-01-03  False  False  False  False  False   True\n",
            "2021-01-04  False  False  False  False  False   True\n",
            "\n",
            "Removed the row with missing data\n",
            "                    A         B         C         D  F    E\n",
            "2021-01-01 -0.343451 -1.180025 -0.578906  0.564523  1  1.0\n",
            "2021-01-02  0.410158 -0.554617 -0.725427  0.955893  2  1.0\n"
          ],
          "name": "stdout"
        }
      ]
    },
    {
      "cell_type": "markdown",
      "metadata": {
        "id": "z1sv0aluZhcd"
      },
      "source": [
        "2. In the data given below,fill the missing data with 20."
      ]
    },
    {
      "cell_type": "code",
      "metadata": {
        "colab": {
          "base_uri": "https://localhost:8080/",
          "height": 175
        },
        "id": "x3ZHFCeyZ0j2",
        "outputId": "9d995967-454f-4b9e-82fe-380403a55bad"
      },
      "source": [
        "import pandas as pd\n",
        "import numpy as np\n",
        "dates = pd.date_range('20210101',periods=6)\n",
        "df = pd.DataFrame(np.random.randn(6,4), index=dates,columns=list('ABCD'))\n",
        "s1 = pd.Series([1,2,3,4,5,6], index=pd.date_range('20130102', periods=6))\n",
        "df[\"F\"]=s1\n",
        "df1=df.reindex(index=dates[0:4], columns=list(df.columns) + ['E'])\n",
        "df1.loc[dates[0]:dates[1],'E'] = 1\n",
        "df1\n",
        "#please provide your answer below this line\n",
        "df2 = df1.fillna(value = 20)\n",
        "df2"
      ],
      "execution_count": 42,
      "outputs": [
        {
          "output_type": "execute_result",
          "data": {
            "text/html": [
              "<div>\n",
              "<style scoped>\n",
              "    .dataframe tbody tr th:only-of-type {\n",
              "        vertical-align: middle;\n",
              "    }\n",
              "\n",
              "    .dataframe tbody tr th {\n",
              "        vertical-align: top;\n",
              "    }\n",
              "\n",
              "    .dataframe thead th {\n",
              "        text-align: right;\n",
              "    }\n",
              "</style>\n",
              "<table border=\"1\" class=\"dataframe\">\n",
              "  <thead>\n",
              "    <tr style=\"text-align: right;\">\n",
              "      <th></th>\n",
              "      <th>A</th>\n",
              "      <th>B</th>\n",
              "      <th>C</th>\n",
              "      <th>D</th>\n",
              "      <th>F</th>\n",
              "      <th>E</th>\n",
              "    </tr>\n",
              "  </thead>\n",
              "  <tbody>\n",
              "    <tr>\n",
              "      <th>2021-01-01</th>\n",
              "      <td>0.240360</td>\n",
              "      <td>-1.114524</td>\n",
              "      <td>-0.209316</td>\n",
              "      <td>-1.269493</td>\n",
              "      <td>20.0</td>\n",
              "      <td>1.0</td>\n",
              "    </tr>\n",
              "    <tr>\n",
              "      <th>2021-01-02</th>\n",
              "      <td>0.170382</td>\n",
              "      <td>0.715051</td>\n",
              "      <td>0.722263</td>\n",
              "      <td>-0.228429</td>\n",
              "      <td>20.0</td>\n",
              "      <td>1.0</td>\n",
              "    </tr>\n",
              "    <tr>\n",
              "      <th>2021-01-03</th>\n",
              "      <td>-1.370473</td>\n",
              "      <td>0.088672</td>\n",
              "      <td>-0.151233</td>\n",
              "      <td>0.571574</td>\n",
              "      <td>20.0</td>\n",
              "      <td>20.0</td>\n",
              "    </tr>\n",
              "    <tr>\n",
              "      <th>2021-01-04</th>\n",
              "      <td>1.699673</td>\n",
              "      <td>0.810119</td>\n",
              "      <td>-2.045564</td>\n",
              "      <td>1.103422</td>\n",
              "      <td>20.0</td>\n",
              "      <td>20.0</td>\n",
              "    </tr>\n",
              "  </tbody>\n",
              "</table>\n",
              "</div>"
            ],
            "text/plain": [
              "                   A         B         C         D     F     E\n",
              "2021-01-01  0.240360 -1.114524 -0.209316 -1.269493  20.0   1.0\n",
              "2021-01-02  0.170382  0.715051  0.722263 -0.228429  20.0   1.0\n",
              "2021-01-03 -1.370473  0.088672 -0.151233  0.571574  20.0  20.0\n",
              "2021-01-04  1.699673  0.810119 -2.045564  1.103422  20.0  20.0"
            ]
          },
          "metadata": {},
          "execution_count": 42
        }
      ]
    },
    {
      "cell_type": "markdown",
      "metadata": {
        "id": "vMzwvpxcZ3G8"
      },
      "source": [
        "3. From the data given below,\n",
        "  - break the data in to pieces from 0 t0 2 ,3 t0 7\n",
        "  - concatenate the pieces.\n",
        "  - concatenate the pieces along axis 1\n",
        "  - label each as 'a' and 'b' respectively and perform concatenation."
      ]
    },
    {
      "cell_type": "code",
      "metadata": {
        "colab": {
          "base_uri": "https://localhost:8080/"
        },
        "id": "LxGwKPTVbbXV",
        "outputId": "2abd131b-bfd7-4998-8f2d-299a2d0e6a50"
      },
      "source": [
        "import pandas as pd\n",
        "import numpy as np\n",
        "df = pd.DataFrame(np.random.randn(10, 4))\n",
        "df\n",
        "#please provide your answer below this line\n",
        "pieces = [df[:3], df[3:8]]\n",
        "print(\"Break the data in to pieces from 0 to 2 ,3 to 7\\n\", pieces[0], \"\\n\", pieces[1])\n",
        "print(\"\\nConcatenate the pieces\\n\", pd.concat(pieces))\n",
        "print(\"\\nConcatenate the pieces along axis 1\\n\", pd.concat(pieces, axis=1))\n",
        "a = pieces[0]\n",
        "b = pieces[1]\n",
        "print(\"\\nLabel each as 'a' and 'b' respectively and perform concatenation\\n\", pd.concat([a, b]))"
      ],
      "execution_count": 55,
      "outputs": [
        {
          "output_type": "stream",
          "text": [
            "Break the data in to pieces from 0 to 2 ,3 to 7\n",
            "           0         1         2         3\n",
            "0 -0.079924  1.000075 -1.042336  0.776162\n",
            "1 -0.916872  0.990559  0.242654 -0.192799\n",
            "2 -0.532264 -0.279266 -1.904935  0.253042 \n",
            "           0         1         2         3\n",
            "3 -1.660558  1.365195  1.149662 -0.250748\n",
            "4  1.163492 -1.332301  1.301460  0.575637\n",
            "5 -1.902839 -0.314265  1.315507 -1.428749\n",
            "6 -0.307771  2.489401 -0.446383  0.600707\n",
            "7 -1.502937  0.771677  1.710804  0.101500\n",
            "\n",
            "Concatenate the pieces\n",
            "           0         1         2         3\n",
            "0 -0.079924  1.000075 -1.042336  0.776162\n",
            "1 -0.916872  0.990559  0.242654 -0.192799\n",
            "2 -0.532264 -0.279266 -1.904935  0.253042\n",
            "3 -1.660558  1.365195  1.149662 -0.250748\n",
            "4  1.163492 -1.332301  1.301460  0.575637\n",
            "5 -1.902839 -0.314265  1.315507 -1.428749\n",
            "6 -0.307771  2.489401 -0.446383  0.600707\n",
            "7 -1.502937  0.771677  1.710804  0.101500\n",
            "\n",
            "Concatenate the pieces along axis 1\n",
            "           0         1         2  ...         1         2         3\n",
            "0 -0.079924  1.000075 -1.042336  ...       NaN       NaN       NaN\n",
            "1 -0.916872  0.990559  0.242654  ...       NaN       NaN       NaN\n",
            "2 -0.532264 -0.279266 -1.904935  ...       NaN       NaN       NaN\n",
            "3       NaN       NaN       NaN  ...  1.365195  1.149662 -0.250748\n",
            "4       NaN       NaN       NaN  ... -1.332301  1.301460  0.575637\n",
            "5       NaN       NaN       NaN  ... -0.314265  1.315507 -1.428749\n",
            "6       NaN       NaN       NaN  ...  2.489401 -0.446383  0.600707\n",
            "7       NaN       NaN       NaN  ...  0.771677  1.710804  0.101500\n",
            "\n",
            "[8 rows x 8 columns]\n",
            "\n",
            "Label each as 'a' and 'b' respectively and perform concatenation\n",
            "           0         1         2         3\n",
            "0 -0.079924  1.000075 -1.042336  0.776162\n",
            "1 -0.916872  0.990559  0.242654 -0.192799\n",
            "2 -0.532264 -0.279266 -1.904935  0.253042\n",
            "3 -1.660558  1.365195  1.149662 -0.250748\n",
            "4  1.163492 -1.332301  1.301460  0.575637\n",
            "5 -1.902839 -0.314265  1.315507 -1.428749\n",
            "6 -0.307771  2.489401 -0.446383  0.600707\n",
            "7 -1.502937  0.771677  1.710804  0.101500\n"
          ],
          "name": "stdout"
        }
      ]
    },
    {
      "cell_type": "code",
      "metadata": {
        "id": "h290MAgudPQI"
      },
      "source": [
        ""
      ],
      "execution_count": null,
      "outputs": []
    }
  ]
}
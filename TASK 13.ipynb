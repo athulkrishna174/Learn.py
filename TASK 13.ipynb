{
  "nbformat": 4,
  "nbformat_minor": 0,
  "metadata": {
    "colab": {
      "name": "TASK 13.ipynb",
      "provenance": [],
      "include_colab_link": true
    },
    "kernelspec": {
      "name": "python3",
      "display_name": "Python 3"
    },
    "language_info": {
      "name": "python"
    }
  },
  "cells": [
    {
      "cell_type": "markdown",
      "metadata": {
        "id": "view-in-github",
        "colab_type": "text"
      },
      "source": [
        "<a href=\"https://colab.research.google.com/github/athulkrishna174/Learn.py/blob/main/TASK%2013.ipynb\" target=\"_parent\"><img src=\"https://colab.research.google.com/assets/colab-badge.svg\" alt=\"Open In Colab\"/></a>"
      ]
    },
    {
      "cell_type": "markdown",
      "metadata": {
        "id": "RUSoRkrOqNwf"
      },
      "source": [
        "1. Create a 3x3 array values ranging from 0-8.Find the sum of the elements in this array."
      ]
    },
    {
      "cell_type": "code",
      "metadata": {
        "id": "t01ATYQpqq8u",
        "outputId": "427f8134-0aaf-440c-f748-d993e813d3c3",
        "colab": {
          "base_uri": "https://localhost:8080/"
        }
      },
      "source": [
        "#please enter your code below this line.\n",
        "import numpy as np\n",
        "arr = np.arange(0, 9).reshape(3, 3)\n",
        "print(\"Sum =\", np.sum(arr))"
      ],
      "execution_count": 3,
      "outputs": [
        {
          "output_type": "stream",
          "text": [
            "Sum = 36\n"
          ],
          "name": "stdout"
        }
      ]
    },
    {
      "cell_type": "markdown",
      "metadata": {
        "id": "k3Y7nQF7r3IW"
      },
      "source": [
        "2. Create a 3x3 array values ranging from 0-8.Find the row sum and column sum of this array."
      ]
    },
    {
      "cell_type": "code",
      "metadata": {
        "id": "BzvIlWfvsICv",
        "outputId": "4b4397b4-307e-46c5-b316-e92027ce06c3",
        "colab": {
          "base_uri": "https://localhost:8080/"
        }
      },
      "source": [
        "#please enter your code below this line.\n",
        "import numpy as np\n",
        "arr = np.arange(0, 9).reshape(3, 3)\n",
        "print(\"Row Sum =\", np.sum(arr, axis = 1))\n",
        "print(\"Column Sum =\", np.sum(arr, axis = 0)) "
      ],
      "execution_count": 42,
      "outputs": [
        {
          "output_type": "stream",
          "text": [
            "Row Sum = [ 3 12 21]\n",
            "Column Sum = [ 9 12 15]\n"
          ],
          "name": "stdout"
        }
      ]
    },
    {
      "cell_type": "markdown",
      "metadata": {
        "id": "KOPMsbnrsgue"
      },
      "source": [
        "3. Create a 4x4 array values ranging from 0-15. Now,\n",
        "\n",
        "    a) Find the mininmum value in the array.\n",
        "    \n",
        "    b) Find the maximum value in the array.\n",
        "\n",
        "    c) Find the mean of the values in the array."
      ]
    },
    {
      "cell_type": "code",
      "metadata": {
        "id": "1UzITxp3WDaW",
        "outputId": "43714538-514a-46be-e2f6-f565b1c8390c",
        "colab": {
          "base_uri": "https://localhost:8080/"
        }
      },
      "source": [
        "#please enter your code belowthis line.\n",
        "import numpy as np\n",
        "arr = np.arange(0, 16).reshape(4, 4)\n",
        "print(\"Minimum value =\", np.min(arr))\n",
        "print(\"Maximum value =\", np.max(arr))\n",
        "print(\"Mean =\", np.mean(arr))"
      ],
      "execution_count": 7,
      "outputs": [
        {
          "output_type": "stream",
          "text": [
            "Minimum value = 0\n",
            "Maximum value = 15\n",
            "Mean = 7.5\n"
          ],
          "name": "stdout"
        }
      ]
    },
    {
      "cell_type": "markdown",
      "metadata": {
        "id": "Pah9qGButoz2"
      },
      "source": [
        "4. Create an 10x10 array values ranging from 0-99.And ,\n",
        "\n",
        "    a) Print the 7th row.\n",
        "    \n",
        "    b) Print the rows from 4-8.\n",
        "\n",
        "    c) Print the value at the index 5,5.\n",
        "\n",
        "    d) Print the 5th colomn.\n",
        "\n",
        "    e) Print the columns from 2-5."
      ]
    },
    {
      "cell_type": "code",
      "metadata": {
        "id": "JFXPq0GkvhKi",
        "outputId": "757576ca-6bee-4399-d6ef-2871a6bc1548",
        "colab": {
          "base_uri": "https://localhost:8080/"
        }
      },
      "source": [
        "#please enter your code below this line.\n",
        "import numpy as np\n",
        "arr = np.arange(0, 100).reshape(10, 10)\n",
        "print(\"7th Row =\", arr[7, :])\n",
        "print(\"Rows from 4-8 \\n\", arr[4:9, :])\n",
        "print(\"Value at index 5,5 =\", arr[5, 5])\n",
        "print(\"5th Column =\", arr[:, 5])\n",
        "print(\"Columns from 2-5 \\n\", arr[:, 2:6])"
      ],
      "execution_count": 41,
      "outputs": [
        {
          "output_type": "stream",
          "text": [
            "7th Row = [70 71 72 73 74 75 76 77 78 79]\n",
            "Rows from 4-8 \n",
            " [[40 41 42 43 44 45 46 47 48 49]\n",
            " [50 51 52 53 54 55 56 57 58 59]\n",
            " [60 61 62 63 64 65 66 67 68 69]\n",
            " [70 71 72 73 74 75 76 77 78 79]\n",
            " [80 81 82 83 84 85 86 87 88 89]]\n",
            "Value at index 5,5 = 55\n",
            "5th Column = [ 5 15 25 35 45 55 65 75 85 95]\n",
            "Columns from 2-5 \n",
            " [[ 2  3  4  5]\n",
            " [12 13 14 15]\n",
            " [22 23 24 25]\n",
            " [32 33 34 35]\n",
            " [42 43 44 45]\n",
            " [52 53 54 55]\n",
            " [62 63 64 65]\n",
            " [72 73 74 75]\n",
            " [82 83 84 85]\n",
            " [92 93 94 95]]\n"
          ],
          "name": "stdout"
        }
      ]
    }
  ]
}
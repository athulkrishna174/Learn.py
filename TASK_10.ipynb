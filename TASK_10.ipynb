{
  "nbformat": 4,
  "nbformat_minor": 0,
  "metadata": {
    "colab": {
      "name": "TASK 10.ipynb",
      "provenance": [],
      "include_colab_link": true
    },
    "kernelspec": {
      "name": "python3",
      "display_name": "Python 3"
    },
    "language_info": {
      "name": "python"
    }
  },
  "cells": [
    {
      "cell_type": "markdown",
      "metadata": {
        "id": "view-in-github",
        "colab_type": "text"
      },
      "source": [
        "<a href=\"https://colab.research.google.com/github/athulkrishna174/Learn.py/blob/main/TASK_10.ipynb\" target=\"_parent\"><img src=\"https://colab.research.google.com/assets/colab-badge.svg\" alt=\"Open In Colab\"/></a>"
      ]
    },
    {
      "cell_type": "markdown",
      "metadata": {
        "id": "VHKxwUewxOi2"
      },
      "source": [
        "1. Generate two  3 x 3 matrix and find it's dot product and take the transpose of the answer."
      ]
    },
    {
      "cell_type": "code",
      "metadata": {
        "id": "RdyKd1CAxZtR",
        "outputId": "61a6293d-a63d-4f27-97bc-7b48a27f6d13",
        "colab": {
          "base_uri": "https://localhost:8080/"
        }
      },
      "source": [
        "#please provide your answer below this line.\n",
        "import numpy as np\n",
        "matrix_1 = np.random.randint(10, size = (3, 3))\n",
        "print(\"Matrix 1\\n\", matrix_1)\n",
        "matrix_2 = np.random.randint(10, size = (3, 3))\n",
        "print(\"Matrix 2\\n\", matrix_2)\n",
        "product = matrix_1.dot(matrix_2)\n",
        "print(\"Dot Proudct\\n\", product)\n",
        "print(\"Transpose\\n\", product.transpose())"
      ],
      "execution_count": 20,
      "outputs": [
        {
          "output_type": "stream",
          "text": [
            "Matrix 1\n",
            " [[8 1 3]\n",
            " [2 4 8]\n",
            " [3 8 1]]\n",
            "Matrix 2\n",
            " [[6 4 4]\n",
            " [5 1 0]\n",
            " [1 1 7]]\n",
            "Dot Proudct\n",
            " [[56 36 53]\n",
            " [40 20 64]\n",
            " [59 21 19]]\n",
            "Transpose\n",
            " [[56 40 59]\n",
            " [36 20 21]\n",
            " [53 64 19]]\n"
          ],
          "name": "stdout"
        }
      ]
    },
    {
      "cell_type": "markdown",
      "metadata": {
        "id": "9c9ZwiBxxf4t"
      },
      "source": [
        "2. Create a 3x3 matrix with elements [55,25,15], [30,44,2], [11,45,77] . Now find the determinant of the given matrix."
      ]
    },
    {
      "cell_type": "code",
      "metadata": {
        "id": "Anmr3C9KyNyy",
        "outputId": "20c0d465-7b37-4207-e99b-86d98778ba88",
        "colab": {
          "base_uri": "https://localhost:8080/"
        }
      },
      "source": [
        "#please provide your answer below this line.\n",
        "import numpy as np\n",
        "matrix = np.array([[55, 25, 15], [30, 44, 2], [11, 45, 77]])\n",
        "print(\"Matrix\\n\", matrix)\n",
        "print(\"Determinant\\n\", int(np.linalg.det(matrix)))"
      ],
      "execution_count": 19,
      "outputs": [
        {
          "output_type": "stream",
          "text": [
            "Matrix\n",
            " [[55 25 15]\n",
            " [30 44  2]\n",
            " [11 45 77]]\n",
            "Determinant\n",
            " 137180\n"
          ],
          "name": "stdout"
        }
      ]
    }
  ]
}